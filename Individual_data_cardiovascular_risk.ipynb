{
  "nbformat": 4,
  "nbformat_minor": 0,
  "metadata": {
    "colab": {
      "private_outputs": true,
      "provenance": [],
      "collapsed_sections": [
        "vncDsAP0Gaoa",
        "FJNUwmbgGyua",
        "w6K7xa23Elo4",
        "yQaldy8SH6Dl",
        "mDgbUHAGgjLW",
        "GF8Ens_Soomf",
        "0wOQAZs5pc--",
        "K5QZ13OEpz2H",
        "lQ7QKXXCp7Bj",
        "448CDAPjqfQr",
        "KSlN3yHqYklG",
        "t6dVpIINYklI",
        "ijmpgYnKYklI",
        "-JiQyfWJYklI",
        "EM7whBJCYoAo",
        "fge-S5ZAYoAp",
        "85gYPyotYoAp",
        "RoGjAbkUYoAp",
        "4Of9eVA-YrdM",
        "iky9q4vBYrdO",
        "F6T5p64dYrdO",
        "y-Ehk30pYrdP",
        "bamQiAODYuh1",
        "QHF8YVU7Yuh3",
        "GwzvFGzlYuh3",
        "qYpmQ266Yuh3",
        "OH-pJp9IphqM",
        "bbFf2-_FphqN",
        "_ouA3fa0phqN",
        "Seke61FWphqN",
        "PIIx-8_IphqN",
        "t27r6nlMphqO",
        "r2jJGEOYphqO",
        "b0JNsNcRphqO",
        "BZR9WyysphqO",
        "jj7wYXLtphqO",
        "eZrbJ2SmphqO",
        "rFu4xreNphqO",
        "YJ55k-q6phqO",
        "gCFgpxoyphqP",
        "OVtJsKN_phqQ",
        "lssrdh5qphqQ",
        "U2RJ9gkRphqQ",
        "1M8mcRywphqQ",
        "tgIPom80phqQ",
        "JMzcOPDDphqR",
        "x-EpHcCOp1ci",
        "X_VqEhTip1ck",
        "8zGJKyg5p1ck",
        "PVzmfK_Ep1ck",
        "n3dbpmDWp1ck",
        "ylSl6qgtp1ck",
        "ZWILFDl5p1ck",
        "M7G43BXep1ck",
        "Ag9LCva-p1cl",
        "E6MkPsBcp1cl",
        "2cELzS2fp1cl",
        "3MPXvC8up1cl",
        "NC_X3p0fY2L0",
        "UV0SzAkaZNRQ",
        "YPEH6qLeZNRQ",
        "q29F0dvdveiT",
        "EXh0U9oCveiU",
        "22aHeOlLveiV",
        "g-ATYxFrGrvw",
        "Yfr_Vlr8HBkt",
        "8yEUt7NnHlrM",
        "tEA2Xm5dHt1r",
        "I79__PHVH19G",
        "Ou-I18pAyIpj",
        "fF3858GYyt-u",
        "4_0_7-oCpUZd",
        "hwyV_J3ipUZe",
        "3yB-zSqbpUZe",
        "dEUvejAfpUZe",
        "Fd15vwWVpUZf",
        "bn_IUdTipZyH",
        "49K5P_iCpZyH",
        "Nff-vKELpZyI",
        "kLW572S8pZyI",
        "dWbDXHzopZyI",
        "yLjJCtPM0KBk",
        "xiyOF9F70UgQ",
        "7wuGOrhz0itI",
        "id1riN9m0vUs",
        "578E2V7j08f6",
        "89xtkJwZ18nB",
        "67NQN5KX2AMe",
        "Iwf50b-R2tYG",
        "GMQiZwjn3iu7",
        "WVIkgGqN3qsr",
        "XkPnILGE3zoT",
        "Hlsf0x5436Go",
        "mT9DMSJo4nBL",
        "c49ITxTc407N",
        "OeJFEK0N496M",
        "9ExmJH0g5HBk",
        "cJNqERVU536h",
        "k5UmGsbsOxih",
        "T0VqWOYE6DLQ",
        "qBMux9mC6MCf",
        "-oLEiFgy-5Pf",
        "C74aWNz2AliB",
        "2DejudWSA-a0",
        "pEMng2IbBLp7",
        "rAdphbQ9Bhjc",
        "TNVZ9zx19K6k",
        "nqoHp30x9hH9",
        "rMDnDkt2B6du",
        "yiiVWRdJDDil",
        "1UUpS68QDMuG",
        "kexQrXU-DjzY",
        "T5CmagL3EC8N",
        "BhH2vgX9EjGr",
        "qjKvONjwE8ra",
        "P1XJ9OREExlT",
        "VFOzZv6IFROw",
        "TIqpNgepFxVj",
        "VfCC591jGiD4",
        "OB4l2ZhMeS1U",
        "ArJBuiUVfxKd",
        "4qY1EAkEfxKe",
        "PiV4Ypx8fxKe",
        "TfvqoZmBfxKf",
        "dJ2tPlVmpsJ0",
        "JWYfwnehpsJ1",
        "-jK_YjpMpsJ2",
        "HAih1iBOpsJ2",
        "zVGeBEFhpsJ2",
        "bmKjuQ-FpsJ3",
        "Fze-IPXLpx6K",
        "7AN1z2sKpx6M",
        "9PIHJqyupx6M",
        "_-qAgymDpx6N",
        "Z-hykwinpx6N",
        "h_CCil-SKHpo",
        "cBFFvTBNJzUa",
        "HvGl1hHyA_VK",
        "EyNgTHvd2WFk",
        "KH5McJBi2d8v",
        "iW_Lq9qf2h6X",
        "-Kee-DAl2viO",
        "gCX9965dhzqZ",
        "gIfDvo9L0UH2"
      ],
      "include_colab_link": true
    },
    "kernelspec": {
      "name": "python3",
      "display_name": "Python 3"
    },
    "language_info": {
      "name": "python"
    }
  },
  "cells": [
    {
      "cell_type": "markdown",
      "metadata": {
        "id": "view-in-github",
        "colab_type": "text"
      },
      "source": [
        "<a href=\"https://colab.research.google.com/github/manjirikulkarni03/cardiovascular_risk_prediction/blob/main/Individual_data_cardiovascular_risk.ipynb\" target=\"_parent\"><img src=\"https://colab.research.google.com/assets/colab-badge.svg\" alt=\"Open In Colab\"/></a>"
      ]
    },
    {
      "cell_type": "markdown",
      "source": [
        "# **Project Name**    - \n",
        "\n"
      ],
      "metadata": {
        "id": "vncDsAP0Gaoa"
      }
    },
    {
      "cell_type": "markdown",
      "source": [
        "##### **Project Type**    - EDA/Regression/Classification/Unsupervised\n",
        "##### **Contribution**    - Individual/Team\n",
        "##### **Team Member 1 -**\n",
        "##### **Team Member 2 -**\n",
        "##### **Team Member 3 -**\n",
        "##### **Team Member 4 -**"
      ],
      "metadata": {
        "id": "beRrZCGUAJYm"
      }
    },
    {
      "cell_type": "markdown",
      "source": [
        "# **Project Summary -**"
      ],
      "metadata": {
        "id": "FJNUwmbgGyua"
      }
    },
    {
      "cell_type": "markdown",
      "source": [
        "Write the summary here within 500-600 words."
      ],
      "metadata": {
        "id": "F6v_1wHtG2nS"
      }
    },
    {
      "cell_type": "markdown",
      "source": [
        "# **GitHub Link -**"
      ],
      "metadata": {
        "id": "w6K7xa23Elo4"
      }
    },
    {
      "cell_type": "markdown",
      "source": [
        "Provide your GitHub Link here."
      ],
      "metadata": {
        "id": "h1o69JH3Eqqn"
      }
    },
    {
      "cell_type": "markdown",
      "source": [
        "# **Problem Statement**\n"
      ],
      "metadata": {
        "id": "yQaldy8SH6Dl"
      }
    },
    {
      "cell_type": "markdown",
      "source": [
        "**Write Problem Statement Here.**"
      ],
      "metadata": {
        "id": "DpeJGUA3kjGy"
      }
    },
    {
      "cell_type": "markdown",
      "source": [
        "# **General Guidelines** : -  "
      ],
      "metadata": {
        "id": "mDgbUHAGgjLW"
      }
    },
    {
      "cell_type": "markdown",
      "source": [
        "1.   Well-structured, formatted, and commented code is required. \n",
        "2.   Exception Handling, Production Grade Code & Deployment Ready Code will be a plus. Those students will be awarded some additional credits. \n",
        "     \n",
        "     The additional credits will have advantages over other students during Star Student selection.\n",
        "       \n",
        "             [ Note: - Deployment Ready Code is defined as, the whole .ipynb notebook should be executable in one go\n",
        "                       without a single error logged. ]\n",
        "\n",
        "3.   Each and every logic should have proper comments.\n",
        "4. You may add as many number of charts you want. Make Sure for each and every chart the following format should be answered.\n",
        "        \n",
        "\n",
        "```\n",
        "# Chart visualization code\n",
        "```\n",
        "            \n",
        "\n",
        "*   Why did you pick the specific chart?\n",
        "*   What is/are the insight(s) found from the chart?\n",
        "* Will the gained insights help creating a positive business impact? \n",
        "Are there any insights that lead to negative growth? Justify with specific reason.\n",
        "\n",
        "5. You have to create at least 15 logical & meaningful charts having important insights.\n",
        "\n",
        "\n",
        "[ Hints : - Do the Vizualization in  a structured way while following \"UBM\" Rule. \n",
        "\n",
        "U - Univariate Analysis,\n",
        "\n",
        "B - Bivariate Analysis (Numerical - Categorical, Numerical - Numerical, Categorical - Categorical)\n",
        "\n",
        "M - Multivariate Analysis\n",
        " ]\n",
        "\n",
        "\n",
        "\n",
        "\n",
        "\n",
        "6. You may add more ml algorithms for model creation. Make sure for each and every algorithm, the following format should be answered.\n",
        "\n",
        "\n",
        "*   Explain the ML Model used and it's performance using Evaluation metric Score Chart.\n",
        "\n",
        "\n",
        "*   Cross- Validation & Hyperparameter Tuning\n",
        "\n",
        "*   Have you seen any improvement? Note down the improvement with updates Evaluation metric Score Chart.\n",
        "\n",
        "*   Explain each evaluation metric's indication towards business and the business impact pf the ML model used.\n",
        "\n",
        "\n",
        "\n",
        "\n",
        "\n",
        "\n",
        "\n",
        "\n",
        "\n",
        "\n",
        "\n",
        "\n",
        "\n",
        "\n",
        "\n",
        "\n",
        "\n",
        "\n"
      ],
      "metadata": {
        "id": "ZrxVaUj-hHfC"
      }
    },
    {
      "cell_type": "markdown",
      "source": [
        "# ***Let's Begin !***"
      ],
      "metadata": {
        "id": "O_i_v8NEhb9l"
      }
    },
    {
      "cell_type": "markdown",
      "source": [
        "## ***1. Know Your Data***"
      ],
      "metadata": {
        "id": "HhfV-JJviCcP"
      }
    },
    {
      "cell_type": "markdown",
      "source": [
        "### Import Libraries"
      ],
      "metadata": {
        "id": "Y3lxredqlCYt"
      }
    },
    {
      "cell_type": "code",
      "source": [
        "# Import Libraries\n",
        "import numpy as np\n",
        "import pandas as pd\n",
        "import matplotlib.pyplot as plt\n",
        "%matplotlib inline\n",
        "import seaborn as sns\n",
        "from datetime import datetime\n",
        "\n",
        "# Adding this to ignore future warnings\n",
        "import warnings\n",
        "warnings.filterwarnings(\"ignore\")\n",
        "\n",
        "# Importing libraries for visualizing decison tree\n",
        "from sklearn.tree import DecisionTreeClassifier, export_graphviz\n",
        "from sklearn import tree\n",
        "from IPython.display import SVG\n",
        "from graphviz import Source\n",
        "from IPython.display import display\n",
        "\n",
        "# importing missingo library which helps us to visualize the missing values\n",
        "import missingno as msno\n",
        "\n",
        "# code to see the execution time in mili seconds\n",
        "!pip install ipython-autotime\n",
        "%load_ext autotime"
      ],
      "metadata": {
        "id": "M8Vqi-pPk-HR"
      },
      "execution_count": null,
      "outputs": []
    },
    {
      "cell_type": "markdown",
      "source": [
        "### Dataset Loading"
      ],
      "metadata": {
        "id": "3RnN4peoiCZX"
      }
    },
    {
      "cell_type": "code",
      "source": [
        "from google.colab import drive\n",
        "drive.mount('/content/drive')"
      ],
      "metadata": {
        "id": "4CkvbW_SlZ_R"
      },
      "execution_count": null,
      "outputs": []
    },
    {
      "cell_type": "code",
      "source": [
        "# Load Dataset\n",
        "df=pd.read_csv('/content/drive/MyDrive/data_cardiovascular_risk.csv')"
      ],
      "metadata": {
        "id": "L4Dj2QAZBVNZ"
      },
      "execution_count": null,
      "outputs": []
    },
    {
      "cell_type": "markdown",
      "source": [
        "### Dataset First View"
      ],
      "metadata": {
        "id": "x71ZqKXriCWQ"
      }
    },
    {
      "cell_type": "code",
      "source": [
        "# Dataset First Look\n",
        "df.head()"
      ],
      "metadata": {
        "id": "LWNFOSvLl09H"
      },
      "execution_count": null,
      "outputs": []
    },
    {
      "cell_type": "code",
      "source": [
        "df.tail()"
      ],
      "metadata": {
        "id": "u3XvUygoBskm"
      },
      "execution_count": null,
      "outputs": []
    },
    {
      "cell_type": "markdown",
      "source": [
        "### Dataset Rows & Columns count"
      ],
      "metadata": {
        "id": "7hBIi_osiCS2"
      }
    },
    {
      "cell_type": "code",
      "source": [
        "# Dataset Rows & Columns count\n",
        "print(f\"Rows={df.shape[0]}, Columns={df.shape[1]}\") "
      ],
      "metadata": {
        "id": "Kllu7SJgmLij"
      },
      "execution_count": null,
      "outputs": []
    },
    {
      "cell_type": "markdown",
      "source": [
        "### Dataset Information"
      ],
      "metadata": {
        "id": "JlHwYmJAmNHm"
      }
    },
    {
      "cell_type": "code",
      "source": [
        "# Dataset Info\n",
        "df.info()"
      ],
      "metadata": {
        "id": "e9hRXRi6meOf"
      },
      "execution_count": null,
      "outputs": []
    },
    {
      "cell_type": "markdown",
      "source": [
        "#### Duplicate Values"
      ],
      "metadata": {
        "id": "35m5QtbWiB9F"
      }
    },
    {
      "cell_type": "code",
      "source": [
        "# Dataset Duplicate Value Count\n",
        "df.duplicated().sum()"
      ],
      "metadata": {
        "id": "1sLdpKYkmox0"
      },
      "execution_count": null,
      "outputs": []
    },
    {
      "cell_type": "markdown",
      "source": [
        "This means we are not having any duplicate value in our dataset."
      ],
      "metadata": {
        "id": "jDKFJf0caDhf"
      }
    },
    {
      "cell_type": "markdown",
      "source": [
        "#### Missing Values/Null Values"
      ],
      "metadata": {
        "id": "PoPl-ycgm1ru"
      }
    },
    {
      "cell_type": "code",
      "source": [
        "# Missing Values/Null Values Count\n",
        "df.isna().sum()"
      ],
      "metadata": {
        "id": "GgHWkxvamxVg"
      },
      "execution_count": null,
      "outputs": []
    },
    {
      "cell_type": "code",
      "source": [
        "# Visualizing the missing values\n",
        "msno.bar(df,figsize=(10,5), color=\"tab:green\")"
      ],
      "metadata": {
        "id": "3q5wnI3om9sJ"
      },
      "execution_count": null,
      "outputs": []
    },
    {
      "cell_type": "markdown",
      "source": [
        "### What did you know about your dataset?"
      ],
      "metadata": {
        "id": "H0kj-8xxnORC"
      }
    },
    {
      "cell_type": "markdown",
      "source": [
        "1. Our dataset contains 3390 rows and 17 columns.\n",
        "2. It contains null values in total 7 features Viz.Education,CigsPerDay,BPMeds,totChol,BMI,heartRate,Glucose etc.\n",
        "3. It do not contain any duplicate value.\n",
        "4. There are total 6 categorical features in our dataset Viz. sex,is_smoking,BPMeds,PrevalentStroke,prevalentHyp,diabetes etc.\n",
        "5. dataset contain features having different dtypes(int,float,object) which we need to further deal with."
      ],
      "metadata": {
        "id": "gfoNAAC-nUe_"
      }
    },
    {
      "cell_type": "markdown",
      "source": [
        "## ***2. Understanding Your Variables***"
      ],
      "metadata": {
        "id": "nA9Y7ga8ng1Z"
      }
    },
    {
      "cell_type": "code",
      "source": [
        "# Dataset Columns\n",
        "df.columns"
      ],
      "metadata": {
        "id": "j7xfkqrt5Ag5"
      },
      "execution_count": null,
      "outputs": []
    },
    {
      "cell_type": "code",
      "source": [
        "# Dataset Describe\n",
        "df.describe()"
      ],
      "metadata": {
        "id": "DnOaZdaE5Q5t"
      },
      "execution_count": null,
      "outputs": []
    },
    {
      "cell_type": "markdown",
      "source": [
        "### Variables Description "
      ],
      "metadata": {
        "id": "PBTbrJXOngz2"
      }
    },
    {
      "cell_type": "markdown",
      "source": [
        "![image.png](data:image/png;base64,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)"
      ],
      "metadata": {
        "id": "aJV4KIxSnxay"
      }
    },
    {
      "cell_type": "markdown",
      "source": [
        "### Check Unique Values for each variable."
      ],
      "metadata": {
        "id": "u3PMJOP6ngxN"
      }
    },
    {
      "cell_type": "code",
      "source": [
        "# Check Unique Values for each variable.\n",
        "for i in df.columns:\n",
        "  print(f'Unique values of i are {df[i].unique()}')"
      ],
      "metadata": {
        "id": "zms12Yq5n-jE"
      },
      "execution_count": null,
      "outputs": []
    },
    {
      "cell_type": "markdown",
      "source": [
        "## 3. ***Data Wrangling***"
      ],
      "metadata": {
        "id": "dauF4eBmngu3"
      }
    },
    {
      "cell_type": "markdown",
      "source": [
        "### Data Wrangling Code"
      ],
      "metadata": {
        "id": "bKJF3rekwFvQ"
      }
    },
    {
      "cell_type": "code",
      "source": [
        "# Write your code to make your dataset analysis ready."
      ],
      "metadata": {
        "id": "wk-9a2fpoLcV"
      },
      "execution_count": null,
      "outputs": []
    },
    {
      "cell_type": "code",
      "source": [
        "df.isna().sum()"
      ],
      "metadata": {
        "id": "_6bp80khFGUa"
      },
      "execution_count": null,
      "outputs": []
    },
    {
      "cell_type": "code",
      "source": [
        "# plotting seaborn box plot to check the outliers in heartRate feature\n",
        "plt.figure(figsize=(15,5))\n",
        "sns.boxplot(x= df[\"heartRate\"])"
      ],
      "metadata": {
        "id": "qW3qfjb8FdlD"
      },
      "execution_count": null,
      "outputs": []
    },
    {
      "cell_type": "code",
      "source": [
        "df[df['heartRate'].isnull()]"
      ],
      "metadata": {
        "id": "CCPALDQnFyJz"
      },
      "execution_count": null,
      "outputs": []
    },
    {
      "cell_type": "code",
      "source": [
        "df['heartRate'].fillna(df['heartRate'].median(),inplace=True)"
      ],
      "metadata": {
        "id": "ed48NSW2IjDU"
      },
      "execution_count": null,
      "outputs": []
    },
    {
      "cell_type": "code",
      "source": [
        "df.isna().sum()"
      ],
      "metadata": {
        "id": "yN-8dV5-I1GZ"
      },
      "execution_count": null,
      "outputs": []
    },
    {
      "cell_type": "code",
      "source": [
        "# plotting seaborn box plot to check the outliers in BMI feature\n",
        "plt.figure(figsize=(15,5))\n",
        "sns.boxplot(x= df[\"BMI\"])"
      ],
      "metadata": {
        "id": "iXA5Hb5RJqsq"
      },
      "execution_count": null,
      "outputs": []
    },
    {
      "cell_type": "code",
      "source": [
        "df['BMI'].fillna(df['BMI'].median(),inplace=True)"
      ],
      "metadata": {
        "id": "hzJDsjLiJw_E"
      },
      "execution_count": null,
      "outputs": []
    },
    {
      "cell_type": "code",
      "source": [
        "df.isna().sum()"
      ],
      "metadata": {
        "id": "M21Nv2fkKEQC"
      },
      "execution_count": null,
      "outputs": []
    },
    {
      "cell_type": "code",
      "source": [
        "# plotting seaborn box plot to check the outliers in cigsPerDay feature\n",
        "plt.figure(figsize=(15,5))\n",
        "sns.boxplot(x= df[\"cigsPerDay\"])"
      ],
      "metadata": {
        "id": "Jj0RySazKL1R"
      },
      "execution_count": null,
      "outputs": []
    },
    {
      "cell_type": "code",
      "source": [
        "df['cigsPerDay'].fillna(df['cigsPerDay'].median(),inplace=True)"
      ],
      "metadata": {
        "id": "pvlF9HNvLOI5"
      },
      "execution_count": null,
      "outputs": []
    },
    {
      "cell_type": "code",
      "source": [
        "df.isna().sum()"
      ],
      "metadata": {
        "id": "uShBlwAWL976"
      },
      "execution_count": null,
      "outputs": []
    },
    {
      "cell_type": "code",
      "source": [
        "# plotting seaborn box plot to check the outliers in totChol feature\n",
        "plt.figure(figsize=(15,5))\n",
        "sns.boxplot(x= df[\"totChol\"])"
      ],
      "metadata": {
        "id": "mMqDIjtkMnyL"
      },
      "execution_count": null,
      "outputs": []
    },
    {
      "cell_type": "code",
      "source": [
        "df['totChol'].fillna(df['totChol'].median(),inplace=True)"
      ],
      "metadata": {
        "id": "Xo5vt9JmMxJ6"
      },
      "execution_count": null,
      "outputs": []
    },
    {
      "cell_type": "code",
      "source": [
        "df.isna().sum()"
      ],
      "metadata": {
        "id": "HwfamnaGOVLI"
      },
      "execution_count": null,
      "outputs": []
    },
    {
      "cell_type": "code",
      "source": [
        "df['BPMeds'].fillna(0,inplace=True)"
      ],
      "metadata": {
        "id": "MO-UdLUePprY"
      },
      "execution_count": null,
      "outputs": []
    },
    {
      "cell_type": "code",
      "source": [
        "df.isna().sum()"
      ],
      "metadata": {
        "id": "IuHvoMv7QOYi"
      },
      "execution_count": null,
      "outputs": []
    },
    {
      "cell_type": "code",
      "source": [
        "df['education'].fillna(2,inplace=True)"
      ],
      "metadata": {
        "id": "nVPkKskKSaau"
      },
      "execution_count": null,
      "outputs": []
    },
    {
      "cell_type": "code",
      "source": [
        "df.isna().sum()"
      ],
      "metadata": {
        "id": "WBykX1KqSoJL"
      },
      "execution_count": null,
      "outputs": []
    },
    {
      "cell_type": "code",
      "source": [
        "# plotting seaborn box plot to check the outliers in glucose feature\n",
        "plt.figure(figsize=(15,5))\n",
        "sns.boxplot(x= df[\"glucose\"])"
      ],
      "metadata": {
        "id": "w_eSH89fWnSS"
      },
      "execution_count": null,
      "outputs": []
    },
    {
      "cell_type": "code",
      "source": [
        "df['glucose'].fillna(df['glucose'].median(),inplace=True)"
      ],
      "metadata": {
        "id": "m8hKLHxiWwog"
      },
      "execution_count": null,
      "outputs": []
    },
    {
      "cell_type": "code",
      "source": [
        "df.isna().sum()"
      ],
      "metadata": {
        "id": "OXCJdrAZW-NS"
      },
      "execution_count": null,
      "outputs": []
    },
    {
      "cell_type": "code",
      "source": [
        "df.info()"
      ],
      "metadata": {
        "id": "ZFqrcNEsXLpa"
      },
      "execution_count": null,
      "outputs": []
    },
    {
      "cell_type": "code",
      "source": [
        "#Changing dtype from float64 to int64\n",
        "df['education']=df['education'].astype(int)\n",
        "df['cigsPerDay']=df['cigsPerDay'].astype(int)\n",
        "df['BPMeds']=df['BPMeds'].astype(int)\n",
        "df['BPMeds']=df['BPMeds'].astype(int)\n",
        "df['totChol']=df['totChol'].astype(int)\n",
        "df['sysBP']=df['sysBP'].astype(int)\n",
        "df['diaBP']=df['diaBP'].astype(int)\n",
        "df['BMI']=df['BMI'].astype(int)\n",
        "df['heartRate']=df['heartRate'].astype(int)\n",
        "df['glucose']=df['glucose'].astype(int)\n"
      ],
      "metadata": {
        "id": "Q9X7Exa5XgKy"
      },
      "execution_count": null,
      "outputs": []
    },
    {
      "cell_type": "code",
      "source": [
        "df.info()"
      ],
      "metadata": {
        "id": "DeSlkxe2ZIVM"
      },
      "execution_count": null,
      "outputs": []
    },
    {
      "cell_type": "markdown",
      "source": [
        "### What all manipulations have you done and insights you found?"
      ],
      "metadata": {
        "id": "MSa1f5Uengrz"
      }
    },
    {
      "cell_type": "markdown",
      "source": [
        "Answer Here."
      ],
      "metadata": {
        "id": "LbyXE7I1olp8"
      }
    },
    {
      "cell_type": "markdown",
      "source": [
        "## ***4. Data Vizualization, Storytelling & Experimenting with charts : Understand the relationships between variables***"
      ],
      "metadata": {
        "id": "GF8Ens_Soomf"
      }
    },
    {
      "cell_type": "markdown",
      "source": [
        "#### Chart - 1"
      ],
      "metadata": {
        "id": "0wOQAZs5pc--"
      }
    },
    {
      "cell_type": "code",
      "source": [
        "# Chart - 1 visualization code"
      ],
      "metadata": {
        "id": "7v_ESjsspbW7"
      },
      "execution_count": null,
      "outputs": []
    },
    {
      "cell_type": "markdown",
      "source": [
        "##### 1. Why did you pick the specific chart?"
      ],
      "metadata": {
        "id": "K5QZ13OEpz2H"
      }
    },
    {
      "cell_type": "markdown",
      "source": [
        "Answer Here."
      ],
      "metadata": {
        "id": "XESiWehPqBRc"
      }
    },
    {
      "cell_type": "markdown",
      "source": [
        "##### 2. What is/are the insight(s) found from the chart?"
      ],
      "metadata": {
        "id": "lQ7QKXXCp7Bj"
      }
    },
    {
      "cell_type": "markdown",
      "source": [
        "Answer Here"
      ],
      "metadata": {
        "id": "C_j1G7yiqdRP"
      }
    },
    {
      "cell_type": "markdown",
      "source": [
        "##### 3. Will the gained insights help creating a positive business impact? \n",
        "Are there any insights that lead to negative growth? Justify with specific reason."
      ],
      "metadata": {
        "id": "448CDAPjqfQr"
      }
    },
    {
      "cell_type": "markdown",
      "source": [
        "Answer Here"
      ],
      "metadata": {
        "id": "3cspy4FjqxJW"
      }
    },
    {
      "cell_type": "markdown",
      "source": [
        "#### Chart - 2"
      ],
      "metadata": {
        "id": "KSlN3yHqYklG"
      }
    },
    {
      "cell_type": "code",
      "source": [
        "# Chart - 2 visualization code"
      ],
      "metadata": {
        "id": "R4YgtaqtYklH"
      },
      "execution_count": null,
      "outputs": []
    },
    {
      "cell_type": "markdown",
      "source": [
        "##### 1. Why did you pick the specific chart?"
      ],
      "metadata": {
        "id": "t6dVpIINYklI"
      }
    },
    {
      "cell_type": "markdown",
      "source": [
        "Answer Here."
      ],
      "metadata": {
        "id": "5aaW0BYyYklI"
      }
    },
    {
      "cell_type": "markdown",
      "source": [
        "##### 2. What is/are the insight(s) found from the chart?"
      ],
      "metadata": {
        "id": "ijmpgYnKYklI"
      }
    },
    {
      "cell_type": "markdown",
      "source": [
        "Answer Here"
      ],
      "metadata": {
        "id": "PSx9atu2YklI"
      }
    },
    {
      "cell_type": "markdown",
      "source": [
        "##### 3. Will the gained insights help creating a positive business impact? \n",
        "Are there any insights that lead to negative growth? Justify with specific reason."
      ],
      "metadata": {
        "id": "-JiQyfWJYklI"
      }
    },
    {
      "cell_type": "markdown",
      "source": [
        "Answer Here"
      ],
      "metadata": {
        "id": "BcBbebzrYklV"
      }
    },
    {
      "cell_type": "markdown",
      "source": [
        "#### Chart - 3"
      ],
      "metadata": {
        "id": "EM7whBJCYoAo"
      }
    },
    {
      "cell_type": "code",
      "source": [
        "# Chart - 3 visualization code"
      ],
      "metadata": {
        "id": "t6GMdE67YoAp"
      },
      "execution_count": null,
      "outputs": []
    },
    {
      "cell_type": "markdown",
      "source": [
        "##### 1. Why did you pick the specific chart?"
      ],
      "metadata": {
        "id": "fge-S5ZAYoAp"
      }
    },
    {
      "cell_type": "markdown",
      "source": [
        "Answer Here."
      ],
      "metadata": {
        "id": "5dBItgRVYoAp"
      }
    },
    {
      "cell_type": "markdown",
      "source": [
        "##### 2. What is/are the insight(s) found from the chart?"
      ],
      "metadata": {
        "id": "85gYPyotYoAp"
      }
    },
    {
      "cell_type": "markdown",
      "source": [
        "Answer Here"
      ],
      "metadata": {
        "id": "4jstXR6OYoAp"
      }
    },
    {
      "cell_type": "markdown",
      "source": [
        "##### 3. Will the gained insights help creating a positive business impact? \n",
        "Are there any insights that lead to negative growth? Justify with specific reason."
      ],
      "metadata": {
        "id": "RoGjAbkUYoAp"
      }
    },
    {
      "cell_type": "markdown",
      "source": [
        "Answer Here"
      ],
      "metadata": {
        "id": "zfJ8IqMcYoAp"
      }
    },
    {
      "cell_type": "markdown",
      "source": [
        "#### Chart - 4"
      ],
      "metadata": {
        "id": "4Of9eVA-YrdM"
      }
    },
    {
      "cell_type": "code",
      "source": [
        "# Chart - 4 visualization code"
      ],
      "metadata": {
        "id": "irlUoxc8YrdO"
      },
      "execution_count": null,
      "outputs": []
    },
    {
      "cell_type": "markdown",
      "source": [
        "##### 1. Why did you pick the specific chart?"
      ],
      "metadata": {
        "id": "iky9q4vBYrdO"
      }
    },
    {
      "cell_type": "markdown",
      "source": [
        "Answer Here."
      ],
      "metadata": {
        "id": "aJRCwT6DYrdO"
      }
    },
    {
      "cell_type": "markdown",
      "source": [
        "##### 2. What is/are the insight(s) found from the chart?"
      ],
      "metadata": {
        "id": "F6T5p64dYrdO"
      }
    },
    {
      "cell_type": "markdown",
      "source": [
        "Answer Here"
      ],
      "metadata": {
        "id": "Xx8WAJvtYrdO"
      }
    },
    {
      "cell_type": "markdown",
      "source": [
        "##### 3. Will the gained insights help creating a positive business impact? \n",
        "Are there any insights that lead to negative growth? Justify with specific reason."
      ],
      "metadata": {
        "id": "y-Ehk30pYrdP"
      }
    },
    {
      "cell_type": "markdown",
      "source": [
        "Answer Here"
      ],
      "metadata": {
        "id": "jLNxxz7MYrdP"
      }
    },
    {
      "cell_type": "markdown",
      "source": [
        "#### Chart - 5"
      ],
      "metadata": {
        "id": "bamQiAODYuh1"
      }
    },
    {
      "cell_type": "code",
      "source": [
        "# Chart - 5 visualization code"
      ],
      "metadata": {
        "id": "TIJwrbroYuh3"
      },
      "execution_count": null,
      "outputs": []
    },
    {
      "cell_type": "markdown",
      "source": [
        "##### 1. Why did you pick the specific chart?"
      ],
      "metadata": {
        "id": "QHF8YVU7Yuh3"
      }
    },
    {
      "cell_type": "markdown",
      "source": [
        "Answer Here."
      ],
      "metadata": {
        "id": "dcxuIMRPYuh3"
      }
    },
    {
      "cell_type": "markdown",
      "source": [
        "##### 2. What is/are the insight(s) found from the chart?"
      ],
      "metadata": {
        "id": "GwzvFGzlYuh3"
      }
    },
    {
      "cell_type": "markdown",
      "source": [
        "Answer Here"
      ],
      "metadata": {
        "id": "uyqkiB8YYuh3"
      }
    },
    {
      "cell_type": "markdown",
      "source": [
        "##### 3. Will the gained insights help creating a positive business impact? \n",
        "Are there any insights that lead to negative growth? Justify with specific reason."
      ],
      "metadata": {
        "id": "qYpmQ266Yuh3"
      }
    },
    {
      "cell_type": "markdown",
      "source": [
        "Answer Here"
      ],
      "metadata": {
        "id": "_WtzZ_hCYuh4"
      }
    },
    {
      "cell_type": "markdown",
      "source": [
        "#### Chart - 6"
      ],
      "metadata": {
        "id": "OH-pJp9IphqM"
      }
    },
    {
      "cell_type": "code",
      "source": [
        "# Chart - 6 visualization code"
      ],
      "metadata": {
        "id": "kuRf4wtuphqN"
      },
      "execution_count": null,
      "outputs": []
    },
    {
      "cell_type": "markdown",
      "source": [
        "##### 1. Why did you pick the specific chart?"
      ],
      "metadata": {
        "id": "bbFf2-_FphqN"
      }
    },
    {
      "cell_type": "markdown",
      "source": [
        "Answer Here."
      ],
      "metadata": {
        "id": "loh7H2nzphqN"
      }
    },
    {
      "cell_type": "markdown",
      "source": [
        "##### 2. What is/are the insight(s) found from the chart?"
      ],
      "metadata": {
        "id": "_ouA3fa0phqN"
      }
    },
    {
      "cell_type": "markdown",
      "source": [
        "Answer Here"
      ],
      "metadata": {
        "id": "VECbqPI7phqN"
      }
    },
    {
      "cell_type": "markdown",
      "source": [
        "##### 3. Will the gained insights help creating a positive business impact? \n",
        "Are there any insights that lead to negative growth? Justify with specific reason."
      ],
      "metadata": {
        "id": "Seke61FWphqN"
      }
    },
    {
      "cell_type": "markdown",
      "source": [
        "Answer Here"
      ],
      "metadata": {
        "id": "DW4_bGpfphqN"
      }
    },
    {
      "cell_type": "markdown",
      "source": [
        "#### Chart - 7"
      ],
      "metadata": {
        "id": "PIIx-8_IphqN"
      }
    },
    {
      "cell_type": "code",
      "source": [
        "# Chart - 7 visualization code"
      ],
      "metadata": {
        "id": "lqAIGUfyphqO"
      },
      "execution_count": null,
      "outputs": []
    },
    {
      "cell_type": "markdown",
      "source": [
        "##### 1. Why did you pick the specific chart?"
      ],
      "metadata": {
        "id": "t27r6nlMphqO"
      }
    },
    {
      "cell_type": "markdown",
      "source": [
        "Answer Here."
      ],
      "metadata": {
        "id": "iv6ro40sphqO"
      }
    },
    {
      "cell_type": "markdown",
      "source": [
        "##### 2. What is/are the insight(s) found from the chart?"
      ],
      "metadata": {
        "id": "r2jJGEOYphqO"
      }
    },
    {
      "cell_type": "markdown",
      "source": [
        "Answer Here"
      ],
      "metadata": {
        "id": "Po6ZPi4hphqO"
      }
    },
    {
      "cell_type": "markdown",
      "source": [
        "##### 3. Will the gained insights help creating a positive business impact? \n",
        "Are there any insights that lead to negative growth? Justify with specific reason."
      ],
      "metadata": {
        "id": "b0JNsNcRphqO"
      }
    },
    {
      "cell_type": "markdown",
      "source": [
        "Answer Here"
      ],
      "metadata": {
        "id": "xvSq8iUTphqO"
      }
    },
    {
      "cell_type": "markdown",
      "source": [
        "#### Chart - 8"
      ],
      "metadata": {
        "id": "BZR9WyysphqO"
      }
    },
    {
      "cell_type": "code",
      "source": [
        "# Chart - 8 visualization code"
      ],
      "metadata": {
        "id": "TdPTWpAVphqO"
      },
      "execution_count": null,
      "outputs": []
    },
    {
      "cell_type": "markdown",
      "source": [
        "##### 1. Why did you pick the specific chart?"
      ],
      "metadata": {
        "id": "jj7wYXLtphqO"
      }
    },
    {
      "cell_type": "markdown",
      "source": [
        "Answer Here."
      ],
      "metadata": {
        "id": "Ob8u6rCTphqO"
      }
    },
    {
      "cell_type": "markdown",
      "source": [
        "##### 2. What is/are the insight(s) found from the chart?"
      ],
      "metadata": {
        "id": "eZrbJ2SmphqO"
      }
    },
    {
      "cell_type": "markdown",
      "source": [
        "Answer Here"
      ],
      "metadata": {
        "id": "mZtgC_hjphqO"
      }
    },
    {
      "cell_type": "markdown",
      "source": [
        "##### 3. Will the gained insights help creating a positive business impact? \n",
        "Are there any insights that lead to negative growth? Justify with specific reason."
      ],
      "metadata": {
        "id": "rFu4xreNphqO"
      }
    },
    {
      "cell_type": "markdown",
      "source": [
        "Answer Here"
      ],
      "metadata": {
        "id": "ey_0qi68phqO"
      }
    },
    {
      "cell_type": "markdown",
      "source": [
        "#### Chart - 9"
      ],
      "metadata": {
        "id": "YJ55k-q6phqO"
      }
    },
    {
      "cell_type": "code",
      "source": [
        "# Chart - 9 visualization code"
      ],
      "metadata": {
        "id": "B2aS4O1ophqO"
      },
      "execution_count": null,
      "outputs": []
    },
    {
      "cell_type": "markdown",
      "source": [
        "##### 1. Why did you pick the specific chart?"
      ],
      "metadata": {
        "id": "gCFgpxoyphqP"
      }
    },
    {
      "cell_type": "markdown",
      "source": [
        "Answer Here."
      ],
      "metadata": {
        "id": "TVxDimi2phqP"
      }
    },
    {
      "cell_type": "markdown",
      "source": [
        "##### 2. What is/are the insight(s) found from the chart?"
      ],
      "metadata": {
        "id": "OVtJsKN_phqQ"
      }
    },
    {
      "cell_type": "markdown",
      "source": [
        "Answer Here"
      ],
      "metadata": {
        "id": "ngGi97qjphqQ"
      }
    },
    {
      "cell_type": "markdown",
      "source": [
        "##### 3. Will the gained insights help creating a positive business impact? \n",
        "Are there any insights that lead to negative growth? Justify with specific reason."
      ],
      "metadata": {
        "id": "lssrdh5qphqQ"
      }
    },
    {
      "cell_type": "markdown",
      "source": [
        "Answer Here"
      ],
      "metadata": {
        "id": "tBpY5ekJphqQ"
      }
    },
    {
      "cell_type": "markdown",
      "source": [
        "#### Chart - 10"
      ],
      "metadata": {
        "id": "U2RJ9gkRphqQ"
      }
    },
    {
      "cell_type": "code",
      "source": [
        "# Chart - 10 visualization code"
      ],
      "metadata": {
        "id": "GM7a4YP4phqQ"
      },
      "execution_count": null,
      "outputs": []
    },
    {
      "cell_type": "markdown",
      "source": [
        "##### 1. Why did you pick the specific chart?"
      ],
      "metadata": {
        "id": "1M8mcRywphqQ"
      }
    },
    {
      "cell_type": "markdown",
      "source": [
        "Answer Here."
      ],
      "metadata": {
        "id": "8agQvks0phqQ"
      }
    },
    {
      "cell_type": "markdown",
      "source": [
        "##### 2. What is/are the insight(s) found from the chart?"
      ],
      "metadata": {
        "id": "tgIPom80phqQ"
      }
    },
    {
      "cell_type": "markdown",
      "source": [
        "Answer Here"
      ],
      "metadata": {
        "id": "Qp13pnNzphqQ"
      }
    },
    {
      "cell_type": "markdown",
      "source": [
        "##### 3. Will the gained insights help creating a positive business impact? \n",
        "Are there any insights that lead to negative growth? Justify with specific reason."
      ],
      "metadata": {
        "id": "JMzcOPDDphqR"
      }
    },
    {
      "cell_type": "markdown",
      "source": [
        "Answer Here"
      ],
      "metadata": {
        "id": "R4Ka1PC2phqR"
      }
    },
    {
      "cell_type": "markdown",
      "source": [
        "#### Chart - 11"
      ],
      "metadata": {
        "id": "x-EpHcCOp1ci"
      }
    },
    {
      "cell_type": "code",
      "source": [
        "# Chart - 11 visualization code"
      ],
      "metadata": {
        "id": "mAQTIvtqp1cj"
      },
      "execution_count": null,
      "outputs": []
    },
    {
      "cell_type": "markdown",
      "source": [
        "##### 1. Why did you pick the specific chart?"
      ],
      "metadata": {
        "id": "X_VqEhTip1ck"
      }
    },
    {
      "cell_type": "markdown",
      "source": [
        "Answer Here."
      ],
      "metadata": {
        "id": "-vsMzt_np1ck"
      }
    },
    {
      "cell_type": "markdown",
      "source": [
        "##### 2. What is/are the insight(s) found from the chart?"
      ],
      "metadata": {
        "id": "8zGJKyg5p1ck"
      }
    },
    {
      "cell_type": "markdown",
      "source": [
        "Answer Here"
      ],
      "metadata": {
        "id": "ZYdMsrqVp1ck"
      }
    },
    {
      "cell_type": "markdown",
      "source": [
        "##### 3. Will the gained insights help creating a positive business impact? \n",
        "Are there any insights that lead to negative growth? Justify with specific reason."
      ],
      "metadata": {
        "id": "PVzmfK_Ep1ck"
      }
    },
    {
      "cell_type": "markdown",
      "source": [
        "Answer Here"
      ],
      "metadata": {
        "id": "druuKYZpp1ck"
      }
    },
    {
      "cell_type": "markdown",
      "source": [
        "#### Chart - 12"
      ],
      "metadata": {
        "id": "n3dbpmDWp1ck"
      }
    },
    {
      "cell_type": "code",
      "source": [
        "# Chart - 12 visualization code"
      ],
      "metadata": {
        "id": "bwevp1tKp1ck"
      },
      "execution_count": null,
      "outputs": []
    },
    {
      "cell_type": "markdown",
      "source": [
        "##### 1. Why did you pick the specific chart?"
      ],
      "metadata": {
        "id": "ylSl6qgtp1ck"
      }
    },
    {
      "cell_type": "markdown",
      "source": [
        "Answer Here."
      ],
      "metadata": {
        "id": "m2xqNkiQp1ck"
      }
    },
    {
      "cell_type": "markdown",
      "source": [
        "##### 2. What is/are the insight(s) found from the chart?"
      ],
      "metadata": {
        "id": "ZWILFDl5p1ck"
      }
    },
    {
      "cell_type": "markdown",
      "source": [
        "Answer Here"
      ],
      "metadata": {
        "id": "x-lUsV2mp1ck"
      }
    },
    {
      "cell_type": "markdown",
      "source": [
        "##### 3. Will the gained insights help creating a positive business impact? \n",
        "Are there any insights that lead to negative growth? Justify with specific reason."
      ],
      "metadata": {
        "id": "M7G43BXep1ck"
      }
    },
    {
      "cell_type": "markdown",
      "source": [
        "Answer Here"
      ],
      "metadata": {
        "id": "5wwDJXsLp1cl"
      }
    },
    {
      "cell_type": "markdown",
      "source": [
        "#### Chart - 13"
      ],
      "metadata": {
        "id": "Ag9LCva-p1cl"
      }
    },
    {
      "cell_type": "code",
      "source": [
        "# Chart - 13 visualization code"
      ],
      "metadata": {
        "id": "EUfxeq9-p1cl"
      },
      "execution_count": null,
      "outputs": []
    },
    {
      "cell_type": "markdown",
      "source": [
        "##### 1. Why did you pick the specific chart?"
      ],
      "metadata": {
        "id": "E6MkPsBcp1cl"
      }
    },
    {
      "cell_type": "markdown",
      "source": [
        "Answer Here."
      ],
      "metadata": {
        "id": "V22bRsFWp1cl"
      }
    },
    {
      "cell_type": "markdown",
      "source": [
        "##### 2. What is/are the insight(s) found from the chart?"
      ],
      "metadata": {
        "id": "2cELzS2fp1cl"
      }
    },
    {
      "cell_type": "markdown",
      "source": [
        "Answer Here"
      ],
      "metadata": {
        "id": "ozQPc2_Ip1cl"
      }
    },
    {
      "cell_type": "markdown",
      "source": [
        "##### 3. Will the gained insights help creating a positive business impact? \n",
        "Are there any insights that lead to negative growth? Justify with specific reason."
      ],
      "metadata": {
        "id": "3MPXvC8up1cl"
      }
    },
    {
      "cell_type": "markdown",
      "source": [
        "Answer Here"
      ],
      "metadata": {
        "id": "GL8l1tdLp1cl"
      }
    },
    {
      "cell_type": "markdown",
      "source": [
        "#### Chart - 14 - Correlation Heatmap"
      ],
      "metadata": {
        "id": "NC_X3p0fY2L0"
      }
    },
    {
      "cell_type": "code",
      "source": [
        "# Correlation Heatmap visualization code"
      ],
      "metadata": {
        "id": "xyC9zolEZNRQ"
      },
      "execution_count": null,
      "outputs": []
    },
    {
      "cell_type": "markdown",
      "source": [
        "##### 1. Why did you pick the specific chart?"
      ],
      "metadata": {
        "id": "UV0SzAkaZNRQ"
      }
    },
    {
      "cell_type": "markdown",
      "source": [
        "Answer Here."
      ],
      "metadata": {
        "id": "DVPuT8LYZNRQ"
      }
    },
    {
      "cell_type": "markdown",
      "source": [
        "##### 2. What is/are the insight(s) found from the chart?"
      ],
      "metadata": {
        "id": "YPEH6qLeZNRQ"
      }
    },
    {
      "cell_type": "markdown",
      "source": [
        "Answer Here"
      ],
      "metadata": {
        "id": "bfSqtnDqZNRR"
      }
    },
    {
      "cell_type": "markdown",
      "source": [
        "#### Chart - 15 - Pair Plot "
      ],
      "metadata": {
        "id": "q29F0dvdveiT"
      }
    },
    {
      "cell_type": "code",
      "source": [
        "# Pair Plot visualization code"
      ],
      "metadata": {
        "id": "o58-TEIhveiU"
      },
      "execution_count": null,
      "outputs": []
    },
    {
      "cell_type": "markdown",
      "source": [
        "##### 1. Why did you pick the specific chart?"
      ],
      "metadata": {
        "id": "EXh0U9oCveiU"
      }
    },
    {
      "cell_type": "markdown",
      "source": [
        "Answer Here."
      ],
      "metadata": {
        "id": "eMmPjTByveiU"
      }
    },
    {
      "cell_type": "markdown",
      "source": [
        "##### 2. What is/are the insight(s) found from the chart?"
      ],
      "metadata": {
        "id": "22aHeOlLveiV"
      }
    },
    {
      "cell_type": "markdown",
      "source": [
        "Answer Here"
      ],
      "metadata": {
        "id": "uPQ8RGwHveiV"
      }
    },
    {
      "cell_type": "markdown",
      "source": [
        "## ***5. Hypothesis Testing***"
      ],
      "metadata": {
        "id": "g-ATYxFrGrvw"
      }
    },
    {
      "cell_type": "markdown",
      "source": [
        "### Based on your chart experiments, define three hypothetical statements from the dataset. In the next three questions, perform hypothesis testing to obtain final conclusion about the statements through your code and statistical testing."
      ],
      "metadata": {
        "id": "Yfr_Vlr8HBkt"
      }
    },
    {
      "cell_type": "markdown",
      "source": [
        "Answer Here."
      ],
      "metadata": {
        "id": "-7MS06SUHkB-"
      }
    },
    {
      "cell_type": "markdown",
      "source": [
        "### Hypothetical Statement - 1"
      ],
      "metadata": {
        "id": "8yEUt7NnHlrM"
      }
    },
    {
      "cell_type": "markdown",
      "source": [
        "#### 1. State Your research hypothesis as a null hypothesis and alternate hypothesis."
      ],
      "metadata": {
        "id": "tEA2Xm5dHt1r"
      }
    },
    {
      "cell_type": "markdown",
      "source": [
        "Answer Here."
      ],
      "metadata": {
        "id": "HI9ZP0laH0D-"
      }
    },
    {
      "cell_type": "markdown",
      "source": [
        "#### 2. Perform an appropriate statistical test."
      ],
      "metadata": {
        "id": "I79__PHVH19G"
      }
    },
    {
      "cell_type": "code",
      "source": [
        "# Perform Statistical Test to obtain P-Value"
      ],
      "metadata": {
        "id": "oZrfquKtyian"
      },
      "execution_count": null,
      "outputs": []
    },
    {
      "cell_type": "markdown",
      "source": [
        "##### Which statistical test have you done to obtain P-Value?"
      ],
      "metadata": {
        "id": "Ou-I18pAyIpj"
      }
    },
    {
      "cell_type": "markdown",
      "source": [
        "Answer Here."
      ],
      "metadata": {
        "id": "s2U0kk00ygSB"
      }
    },
    {
      "cell_type": "markdown",
      "source": [
        "##### Why did you choose the specific statistical test?"
      ],
      "metadata": {
        "id": "fF3858GYyt-u"
      }
    },
    {
      "cell_type": "markdown",
      "source": [
        "Answer Here."
      ],
      "metadata": {
        "id": "HO4K0gP5y3B4"
      }
    },
    {
      "cell_type": "markdown",
      "source": [
        "### Hypothetical Statement - 2"
      ],
      "metadata": {
        "id": "4_0_7-oCpUZd"
      }
    },
    {
      "cell_type": "markdown",
      "source": [
        "#### 1. State Your research hypothesis as a null hypothesis and alternate hypothesis."
      ],
      "metadata": {
        "id": "hwyV_J3ipUZe"
      }
    },
    {
      "cell_type": "markdown",
      "source": [
        "Answer Here."
      ],
      "metadata": {
        "id": "FnpLGJ-4pUZe"
      }
    },
    {
      "cell_type": "markdown",
      "source": [
        "#### 2. Perform an appropriate statistical test."
      ],
      "metadata": {
        "id": "3yB-zSqbpUZe"
      }
    },
    {
      "cell_type": "code",
      "source": [
        "# Perform Statistical Test to obtain P-Value"
      ],
      "metadata": {
        "id": "sWxdNTXNpUZe"
      },
      "execution_count": null,
      "outputs": []
    },
    {
      "cell_type": "markdown",
      "source": [
        "##### Which statistical test have you done to obtain P-Value?"
      ],
      "metadata": {
        "id": "dEUvejAfpUZe"
      }
    },
    {
      "cell_type": "markdown",
      "source": [
        "Answer Here."
      ],
      "metadata": {
        "id": "oLDrPz7HpUZf"
      }
    },
    {
      "cell_type": "markdown",
      "source": [
        "##### Why did you choose the specific statistical test?"
      ],
      "metadata": {
        "id": "Fd15vwWVpUZf"
      }
    },
    {
      "cell_type": "markdown",
      "source": [
        "Answer Here."
      ],
      "metadata": {
        "id": "4xOGYyiBpUZf"
      }
    },
    {
      "cell_type": "markdown",
      "source": [
        "### Hypothetical Statement - 3"
      ],
      "metadata": {
        "id": "bn_IUdTipZyH"
      }
    },
    {
      "cell_type": "markdown",
      "source": [
        "#### 1. State Your research hypothesis as a null hypothesis and alternate hypothesis."
      ],
      "metadata": {
        "id": "49K5P_iCpZyH"
      }
    },
    {
      "cell_type": "markdown",
      "source": [
        "Answer Here."
      ],
      "metadata": {
        "id": "7gWI5rT9pZyH"
      }
    },
    {
      "cell_type": "markdown",
      "source": [
        "#### 2. Perform an appropriate statistical test."
      ],
      "metadata": {
        "id": "Nff-vKELpZyI"
      }
    },
    {
      "cell_type": "code",
      "source": [
        "# Perform Statistical Test to obtain P-Value"
      ],
      "metadata": {
        "id": "s6AnJQjtpZyI"
      },
      "execution_count": null,
      "outputs": []
    },
    {
      "cell_type": "markdown",
      "source": [
        "##### Which statistical test have you done to obtain P-Value?"
      ],
      "metadata": {
        "id": "kLW572S8pZyI"
      }
    },
    {
      "cell_type": "markdown",
      "source": [
        "Answer Here."
      ],
      "metadata": {
        "id": "ytWJ8v15pZyI"
      }
    },
    {
      "cell_type": "markdown",
      "source": [
        "##### Why did you choose the specific statistical test?"
      ],
      "metadata": {
        "id": "dWbDXHzopZyI"
      }
    },
    {
      "cell_type": "markdown",
      "source": [
        "Answer Here."
      ],
      "metadata": {
        "id": "M99G98V6pZyI"
      }
    },
    {
      "cell_type": "markdown",
      "source": [
        "## ***6. Feature Engineering & Data Pre-processing***"
      ],
      "metadata": {
        "id": "yLjJCtPM0KBk"
      }
    },
    {
      "cell_type": "markdown",
      "source": [
        "### 1. Handling Missing Values"
      ],
      "metadata": {
        "id": "xiyOF9F70UgQ"
      }
    },
    {
      "cell_type": "code",
      "source": [
        "# Handling Missing Values & Missing Value Imputation"
      ],
      "metadata": {
        "id": "iRsAHk1K0fpS"
      },
      "execution_count": null,
      "outputs": []
    },
    {
      "cell_type": "markdown",
      "source": [
        "#### What all missing value imputation techniques have you used and why did you use those techniques?"
      ],
      "metadata": {
        "id": "7wuGOrhz0itI"
      }
    },
    {
      "cell_type": "markdown",
      "source": [
        "Answer Here."
      ],
      "metadata": {
        "id": "1ixusLtI0pqI"
      }
    },
    {
      "cell_type": "markdown",
      "source": [
        "### 2. Handling Outliers"
      ],
      "metadata": {
        "id": "id1riN9m0vUs"
      }
    },
    {
      "cell_type": "code",
      "source": [
        "# Handling Outliers & Outlier treatments"
      ],
      "metadata": {
        "id": "M6w2CzZf04JK"
      },
      "execution_count": null,
      "outputs": []
    },
    {
      "cell_type": "markdown",
      "source": [
        "##### What all outlier treatment techniques have you used and why did you use those techniques?"
      ],
      "metadata": {
        "id": "578E2V7j08f6"
      }
    },
    {
      "cell_type": "markdown",
      "source": [
        "Answer Here."
      ],
      "metadata": {
        "id": "uGZz5OrT1HH-"
      }
    },
    {
      "cell_type": "markdown",
      "source": [
        "### 3. Categorical Encoding"
      ],
      "metadata": {
        "id": "89xtkJwZ18nB"
      }
    },
    {
      "cell_type": "code",
      "source": [
        "# Encode your categorical columns"
      ],
      "metadata": {
        "id": "21JmIYMG2hEo"
      },
      "execution_count": null,
      "outputs": []
    },
    {
      "cell_type": "markdown",
      "source": [
        "#### What all categorical encoding techniques have you used & why did you use those techniques?"
      ],
      "metadata": {
        "id": "67NQN5KX2AMe"
      }
    },
    {
      "cell_type": "markdown",
      "source": [
        "Answer Here."
      ],
      "metadata": {
        "id": "UDaue5h32n_G"
      }
    },
    {
      "cell_type": "markdown",
      "source": [
        "### 4. Textual Data Preprocessing \n",
        "(It's mandatory for textual dataset i.e., NLP, Sentiment Analysis, Text Clustering etc.)"
      ],
      "metadata": {
        "id": "Iwf50b-R2tYG"
      }
    },
    {
      "cell_type": "markdown",
      "source": [
        "#### 1. Expand Contraction"
      ],
      "metadata": {
        "id": "GMQiZwjn3iu7"
      }
    },
    {
      "cell_type": "code",
      "source": [
        "# Expand Contraction"
      ],
      "metadata": {
        "id": "PTouz10C3oNN"
      },
      "execution_count": null,
      "outputs": []
    },
    {
      "cell_type": "markdown",
      "source": [
        "#### 2. Lower Casing"
      ],
      "metadata": {
        "id": "WVIkgGqN3qsr"
      }
    },
    {
      "cell_type": "code",
      "source": [
        "# Lower Casing"
      ],
      "metadata": {
        "id": "88JnJ1jN3w7j"
      },
      "execution_count": null,
      "outputs": []
    },
    {
      "cell_type": "markdown",
      "source": [
        "#### 3. Removing Punctuations"
      ],
      "metadata": {
        "id": "XkPnILGE3zoT"
      }
    },
    {
      "cell_type": "code",
      "source": [
        "# Remove Punctuations"
      ],
      "metadata": {
        "id": "vqbBqNaA33c0"
      },
      "execution_count": null,
      "outputs": []
    },
    {
      "cell_type": "markdown",
      "source": [
        "#### 4. Removing URLs & Removing words and digits contain digits."
      ],
      "metadata": {
        "id": "Hlsf0x5436Go"
      }
    },
    {
      "cell_type": "code",
      "source": [
        "# Remove URLs & Remove words and digits contain digits"
      ],
      "metadata": {
        "id": "2sxKgKxu4Ip3"
      },
      "execution_count": null,
      "outputs": []
    },
    {
      "cell_type": "markdown",
      "source": [
        "#### 5. Removing Stopwords & Removing White spaces"
      ],
      "metadata": {
        "id": "mT9DMSJo4nBL"
      }
    },
    {
      "cell_type": "code",
      "source": [
        "# Remove Stopwords"
      ],
      "metadata": {
        "id": "T2LSJh154s8W"
      },
      "execution_count": null,
      "outputs": []
    },
    {
      "cell_type": "code",
      "source": [
        "# Remove White spaces"
      ],
      "metadata": {
        "id": "EgLJGffy4vm0"
      },
      "execution_count": null,
      "outputs": []
    },
    {
      "cell_type": "markdown",
      "source": [
        "#### 6. Rephrase Text"
      ],
      "metadata": {
        "id": "c49ITxTc407N"
      }
    },
    {
      "cell_type": "code",
      "source": [
        "# Rephrase Text"
      ],
      "metadata": {
        "id": "foqY80Qu48N2"
      },
      "execution_count": null,
      "outputs": []
    },
    {
      "cell_type": "markdown",
      "source": [
        "#### 7. Tokenization"
      ],
      "metadata": {
        "id": "OeJFEK0N496M"
      }
    },
    {
      "cell_type": "code",
      "source": [
        "# Tokenization"
      ],
      "metadata": {
        "id": "ijx1rUOS5CUU"
      },
      "execution_count": null,
      "outputs": []
    },
    {
      "cell_type": "markdown",
      "source": [
        "#### 8. Text Normalization"
      ],
      "metadata": {
        "id": "9ExmJH0g5HBk"
      }
    },
    {
      "cell_type": "code",
      "source": [
        "# Normalizing Text (i.e., Stemming, Lemmatization etc.)"
      ],
      "metadata": {
        "id": "AIJ1a-Zc5PY8"
      },
      "execution_count": null,
      "outputs": []
    },
    {
      "cell_type": "markdown",
      "source": [
        "##### Which text normalization technique have you used and why?"
      ],
      "metadata": {
        "id": "cJNqERVU536h"
      }
    },
    {
      "cell_type": "markdown",
      "source": [
        "Answer Here."
      ],
      "metadata": {
        "id": "Z9jKVxE06BC1"
      }
    },
    {
      "cell_type": "markdown",
      "source": [
        "#### 9. Part of speech tagging"
      ],
      "metadata": {
        "id": "k5UmGsbsOxih"
      }
    },
    {
      "cell_type": "code",
      "source": [
        "# POS Taging"
      ],
      "metadata": {
        "id": "btT3ZJBAO6Ik"
      },
      "execution_count": null,
      "outputs": []
    },
    {
      "cell_type": "markdown",
      "source": [
        "#### 10. Text Vectorization"
      ],
      "metadata": {
        "id": "T0VqWOYE6DLQ"
      }
    },
    {
      "cell_type": "code",
      "source": [
        "# Vectorizing Text"
      ],
      "metadata": {
        "id": "yBRtdhth6JDE"
      },
      "execution_count": null,
      "outputs": []
    },
    {
      "cell_type": "markdown",
      "source": [
        "##### Which text vectorization technique have you used and why?"
      ],
      "metadata": {
        "id": "qBMux9mC6MCf"
      }
    },
    {
      "cell_type": "markdown",
      "source": [
        "Answer Here."
      ],
      "metadata": {
        "id": "su2EnbCh6UKQ"
      }
    },
    {
      "cell_type": "markdown",
      "source": [
        "### 4. Feature Manipulation & Selection"
      ],
      "metadata": {
        "id": "-oLEiFgy-5Pf"
      }
    },
    {
      "cell_type": "markdown",
      "source": [
        "#### 1. Feature Manipulation"
      ],
      "metadata": {
        "id": "C74aWNz2AliB"
      }
    },
    {
      "cell_type": "code",
      "source": [
        "# Manipulate Features to minimize feature correlation and create new features"
      ],
      "metadata": {
        "id": "h1qC4yhBApWC"
      },
      "execution_count": null,
      "outputs": []
    },
    {
      "cell_type": "markdown",
      "source": [
        "#### 2. Feature Selection"
      ],
      "metadata": {
        "id": "2DejudWSA-a0"
      }
    },
    {
      "cell_type": "code",
      "source": [
        "# Select your features wisely to avoid overfitting"
      ],
      "metadata": {
        "id": "YLhe8UmaBCEE"
      },
      "execution_count": null,
      "outputs": []
    },
    {
      "cell_type": "markdown",
      "source": [
        "##### What all feature selection methods have you used  and why?"
      ],
      "metadata": {
        "id": "pEMng2IbBLp7"
      }
    },
    {
      "cell_type": "markdown",
      "source": [
        "Answer Here."
      ],
      "metadata": {
        "id": "rb2Lh6Z8BgGs"
      }
    },
    {
      "cell_type": "markdown",
      "source": [
        "##### Which all features you found important and why?"
      ],
      "metadata": {
        "id": "rAdphbQ9Bhjc"
      }
    },
    {
      "cell_type": "markdown",
      "source": [
        "Answer Here."
      ],
      "metadata": {
        "id": "fGgaEstsBnaf"
      }
    },
    {
      "cell_type": "markdown",
      "source": [
        "### 5. Data Transformation"
      ],
      "metadata": {
        "id": "TNVZ9zx19K6k"
      }
    },
    {
      "cell_type": "markdown",
      "source": [
        "#### Do you think that your data needs to be transformed? If yes, which transformation have you used. Explain Why?"
      ],
      "metadata": {
        "id": "nqoHp30x9hH9"
      }
    },
    {
      "cell_type": "code",
      "source": [
        "# Transform Your data"
      ],
      "metadata": {
        "id": "I6quWQ1T9rtH"
      },
      "execution_count": null,
      "outputs": []
    },
    {
      "cell_type": "markdown",
      "source": [
        "### 6. Data Scaling"
      ],
      "metadata": {
        "id": "rMDnDkt2B6du"
      }
    },
    {
      "cell_type": "code",
      "source": [
        "# Scaling your data"
      ],
      "metadata": {
        "id": "dL9LWpySC6x_"
      },
      "execution_count": null,
      "outputs": []
    },
    {
      "cell_type": "markdown",
      "source": [
        "##### Which method have you used to scale you data and why?"
      ],
      "metadata": {
        "id": "yiiVWRdJDDil"
      }
    },
    {
      "cell_type": "markdown",
      "source": [
        "### 7. Dimesionality Reduction"
      ],
      "metadata": {
        "id": "1UUpS68QDMuG"
      }
    },
    {
      "cell_type": "markdown",
      "source": [
        "##### Do you think that dimensionality reduction is needed? Explain Why?"
      ],
      "metadata": {
        "id": "kexQrXU-DjzY"
      }
    },
    {
      "cell_type": "markdown",
      "source": [
        "Answer Here."
      ],
      "metadata": {
        "id": "GGRlBsSGDtTQ"
      }
    },
    {
      "cell_type": "code",
      "source": [
        "# DImensionality Reduction (If needed)"
      ],
      "metadata": {
        "id": "kQfvxBBHDvCa"
      },
      "execution_count": null,
      "outputs": []
    },
    {
      "cell_type": "markdown",
      "source": [
        "##### Which dimensionality reduction technique have you used and why? (If dimensionality reduction done on dataset.)"
      ],
      "metadata": {
        "id": "T5CmagL3EC8N"
      }
    },
    {
      "cell_type": "markdown",
      "source": [
        "Answer Here."
      ],
      "metadata": {
        "id": "ZKr75IDuEM7t"
      }
    },
    {
      "cell_type": "markdown",
      "source": [
        "### 8. Data Splitting"
      ],
      "metadata": {
        "id": "BhH2vgX9EjGr"
      }
    },
    {
      "cell_type": "code",
      "source": [
        "# Split your data to train and test. Choose Splitting ratio wisely."
      ],
      "metadata": {
        "id": "0CTyd2UwEyNM"
      },
      "execution_count": null,
      "outputs": []
    },
    {
      "cell_type": "markdown",
      "source": [
        "##### What data splitting ratio have you used and why? "
      ],
      "metadata": {
        "id": "qjKvONjwE8ra"
      }
    },
    {
      "cell_type": "markdown",
      "source": [
        "Answer Here."
      ],
      "metadata": {
        "id": "Y2lJ8cobFDb_"
      }
    },
    {
      "cell_type": "markdown",
      "source": [
        "### 9. Handling Imbalanced Dataset"
      ],
      "metadata": {
        "id": "P1XJ9OREExlT"
      }
    },
    {
      "cell_type": "markdown",
      "source": [
        "##### Do you think the dataset is imbalanced? Explain Why."
      ],
      "metadata": {
        "id": "VFOzZv6IFROw"
      }
    },
    {
      "cell_type": "markdown",
      "source": [
        "Answer Here."
      ],
      "metadata": {
        "id": "GeKDIv7pFgcC"
      }
    },
    {
      "cell_type": "code",
      "source": [
        "# Handling Imbalanced Dataset (If needed)"
      ],
      "metadata": {
        "id": "nQsRhhZLFiDs"
      },
      "execution_count": null,
      "outputs": []
    },
    {
      "cell_type": "markdown",
      "source": [
        "##### What technique did you use to handle the imbalance dataset and why? (If needed to be balanced)"
      ],
      "metadata": {
        "id": "TIqpNgepFxVj"
      }
    },
    {
      "cell_type": "markdown",
      "source": [
        "Answer Here."
      ],
      "metadata": {
        "id": "qbet1HwdGDTz"
      }
    },
    {
      "cell_type": "markdown",
      "source": [
        "## ***7. ML Model Implementation***"
      ],
      "metadata": {
        "id": "VfCC591jGiD4"
      }
    },
    {
      "cell_type": "markdown",
      "source": [
        "### ML Model - 1"
      ],
      "metadata": {
        "id": "OB4l2ZhMeS1U"
      }
    },
    {
      "cell_type": "code",
      "source": [
        "# ML Model - 1 Implementation\n",
        "\n",
        "# Fit the Algorithm\n",
        "\n",
        "# Predict on the model"
      ],
      "metadata": {
        "id": "7ebyywQieS1U"
      },
      "execution_count": null,
      "outputs": []
    },
    {
      "cell_type": "markdown",
      "source": [
        "#### 1. Explain the ML Model used and it's performance using Evaluation metric Score Chart."
      ],
      "metadata": {
        "id": "ArJBuiUVfxKd"
      }
    },
    {
      "cell_type": "code",
      "source": [
        "# Visualizing evaluation Metric Score chart"
      ],
      "metadata": {
        "id": "rqD5ZohzfxKe"
      },
      "execution_count": null,
      "outputs": []
    },
    {
      "cell_type": "markdown",
      "source": [
        "#### 2. Cross- Validation & Hyperparameter Tuning"
      ],
      "metadata": {
        "id": "4qY1EAkEfxKe"
      }
    },
    {
      "cell_type": "code",
      "source": [
        "# ML Model - 1 Implementation with hyperparameter optimization techniques (i.e., GridSearch CV, RandomSearch CV, Bayesian Optimization etc.)\n",
        "\n",
        "# Fit the Algorithm\n",
        "\n",
        "# Predict on the model"
      ],
      "metadata": {
        "id": "Dy61ujd6fxKe"
      },
      "execution_count": null,
      "outputs": []
    },
    {
      "cell_type": "markdown",
      "source": [
        "##### Which hyperparameter optimization technique have you used and why?"
      ],
      "metadata": {
        "id": "PiV4Ypx8fxKe"
      }
    },
    {
      "cell_type": "markdown",
      "source": [
        "Answer Here."
      ],
      "metadata": {
        "id": "negyGRa7fxKf"
      }
    },
    {
      "cell_type": "markdown",
      "source": [
        "##### Have you seen any improvement? Note down the improvement with updates Evaluation metric Score Chart."
      ],
      "metadata": {
        "id": "TfvqoZmBfxKf"
      }
    },
    {
      "cell_type": "markdown",
      "source": [
        "Answer Here."
      ],
      "metadata": {
        "id": "OaLui8CcfxKf"
      }
    },
    {
      "cell_type": "markdown",
      "source": [
        "### ML Model - 2"
      ],
      "metadata": {
        "id": "dJ2tPlVmpsJ0"
      }
    },
    {
      "cell_type": "markdown",
      "source": [
        "#### 1. Explain the ML Model used and it's performance using Evaluation metric Score Chart."
      ],
      "metadata": {
        "id": "JWYfwnehpsJ1"
      }
    },
    {
      "cell_type": "code",
      "source": [
        "# Visualizing evaluation Metric Score chart"
      ],
      "metadata": {
        "id": "yEl-hgQWpsJ1"
      },
      "execution_count": null,
      "outputs": []
    },
    {
      "cell_type": "markdown",
      "source": [
        "#### 2. Cross- Validation & Hyperparameter Tuning"
      ],
      "metadata": {
        "id": "-jK_YjpMpsJ2"
      }
    },
    {
      "cell_type": "code",
      "source": [
        "# ML Model - 1 Implementation with hyperparameter optimization techniques (i.e., GridSearch CV, RandomSearch CV, Bayesian Optimization etc.)\n",
        "\n",
        "# Fit the Algorithm\n",
        "\n",
        "# Predict on the model"
      ],
      "metadata": {
        "id": "Dn0EOfS6psJ2"
      },
      "execution_count": null,
      "outputs": []
    },
    {
      "cell_type": "markdown",
      "source": [
        "##### Which hyperparameter optimization technique have you used and why?"
      ],
      "metadata": {
        "id": "HAih1iBOpsJ2"
      }
    },
    {
      "cell_type": "markdown",
      "source": [
        "Answer Here."
      ],
      "metadata": {
        "id": "9kBgjYcdpsJ2"
      }
    },
    {
      "cell_type": "markdown",
      "source": [
        "##### Have you seen any improvement? Note down the improvement with updates Evaluation metric Score Chart."
      ],
      "metadata": {
        "id": "zVGeBEFhpsJ2"
      }
    },
    {
      "cell_type": "markdown",
      "source": [
        "Answer Here."
      ],
      "metadata": {
        "id": "74yRdG6UpsJ3"
      }
    },
    {
      "cell_type": "markdown",
      "source": [
        "#### 3. Explain each evaluation metric's indication towards business and the business impact pf the ML model used."
      ],
      "metadata": {
        "id": "bmKjuQ-FpsJ3"
      }
    },
    {
      "cell_type": "markdown",
      "source": [
        "Answer Here."
      ],
      "metadata": {
        "id": "BDKtOrBQpsJ3"
      }
    },
    {
      "cell_type": "markdown",
      "source": [
        "### ML Model - 3"
      ],
      "metadata": {
        "id": "Fze-IPXLpx6K"
      }
    },
    {
      "cell_type": "code",
      "source": [
        "# ML Model - 3 Implementation\n",
        "\n",
        "# Fit the Algorithm\n",
        "\n",
        "# Predict on the model"
      ],
      "metadata": {
        "id": "FFrSXAtrpx6M"
      },
      "execution_count": null,
      "outputs": []
    },
    {
      "cell_type": "markdown",
      "source": [
        "#### 1. Explain the ML Model used and it's performance using Evaluation metric Score Chart."
      ],
      "metadata": {
        "id": "7AN1z2sKpx6M"
      }
    },
    {
      "cell_type": "code",
      "source": [
        "# Visualizing evaluation Metric Score chart"
      ],
      "metadata": {
        "id": "xIY4lxxGpx6M"
      },
      "execution_count": null,
      "outputs": []
    },
    {
      "cell_type": "markdown",
      "source": [
        "#### 2. Cross- Validation & Hyperparameter Tuning"
      ],
      "metadata": {
        "id": "9PIHJqyupx6M"
      }
    },
    {
      "cell_type": "code",
      "source": [
        "# ML Model - 3 Implementation with hyperparameter optimization techniques (i.e., GridSearch CV, RandomSearch CV, Bayesian Optimization etc.)\n",
        "\n",
        "# Fit the Algorithm\n",
        "\n",
        "# Predict on the model"
      ],
      "metadata": {
        "id": "eSVXuaSKpx6M"
      },
      "execution_count": null,
      "outputs": []
    },
    {
      "cell_type": "markdown",
      "source": [
        "##### Which hyperparameter optimization technique have you used and why?"
      ],
      "metadata": {
        "id": "_-qAgymDpx6N"
      }
    },
    {
      "cell_type": "markdown",
      "source": [
        "Answer Here."
      ],
      "metadata": {
        "id": "lQMffxkwpx6N"
      }
    },
    {
      "cell_type": "markdown",
      "source": [
        "##### Have you seen any improvement? Note down the improvement with updates Evaluation metric Score Chart."
      ],
      "metadata": {
        "id": "Z-hykwinpx6N"
      }
    },
    {
      "cell_type": "markdown",
      "source": [
        "Answer Here."
      ],
      "metadata": {
        "id": "MzVzZC6opx6N"
      }
    },
    {
      "cell_type": "markdown",
      "source": [
        "### 1. Which Evaluation metrics did you consider for a positive business impact and why?"
      ],
      "metadata": {
        "id": "h_CCil-SKHpo"
      }
    },
    {
      "cell_type": "markdown",
      "source": [
        "Answer Here."
      ],
      "metadata": {
        "id": "jHVz9hHDKFms"
      }
    },
    {
      "cell_type": "markdown",
      "source": [
        "### 2. Which ML model did you choose from the above created models as your final prediction model and why?"
      ],
      "metadata": {
        "id": "cBFFvTBNJzUa"
      }
    },
    {
      "cell_type": "markdown",
      "source": [
        "Answer Here."
      ],
      "metadata": {
        "id": "6ksF5Q1LKTVm"
      }
    },
    {
      "cell_type": "markdown",
      "source": [
        "### 3. Explain the model which you have used and the feature importance using any model explainability tool?"
      ],
      "metadata": {
        "id": "HvGl1hHyA_VK"
      }
    },
    {
      "cell_type": "markdown",
      "source": [
        "Answer Here."
      ],
      "metadata": {
        "id": "YnvVTiIxBL-C"
      }
    },
    {
      "cell_type": "markdown",
      "source": [
        "## ***8.*** ***Future Work (Optional)***"
      ],
      "metadata": {
        "id": "EyNgTHvd2WFk"
      }
    },
    {
      "cell_type": "markdown",
      "source": [
        "### 1. Save the best performing ml model in a pickle file or joblib file format for deployment process.\n"
      ],
      "metadata": {
        "id": "KH5McJBi2d8v"
      }
    },
    {
      "cell_type": "code",
      "source": [
        "# Save the File"
      ],
      "metadata": {
        "id": "bQIANRl32f4J"
      },
      "execution_count": null,
      "outputs": []
    },
    {
      "cell_type": "markdown",
      "source": [
        "### 2. Again Load the saved model file and try to predict unseen data for a sanity check.\n"
      ],
      "metadata": {
        "id": "iW_Lq9qf2h6X"
      }
    },
    {
      "cell_type": "code",
      "source": [
        "# Load the File and predict unseen data."
      ],
      "metadata": {
        "id": "oEXk9ydD2nVC"
      },
      "execution_count": null,
      "outputs": []
    },
    {
      "cell_type": "markdown",
      "source": [
        "### ***Congrats! Your model is successfully created and ready for deployment on a live server for a real user interaction !!!***"
      ],
      "metadata": {
        "id": "-Kee-DAl2viO"
      }
    },
    {
      "cell_type": "markdown",
      "source": [
        "# **Conclusion**"
      ],
      "metadata": {
        "id": "gCX9965dhzqZ"
      }
    },
    {
      "cell_type": "markdown",
      "source": [
        "Write the conclusion here."
      ],
      "metadata": {
        "id": "Fjb1IsQkh3yE"
      }
    },
    {
      "cell_type": "markdown",
      "source": [
        "### ***Hurrah! You have successfully completed your Machine Learning Capstone Project !!!***"
      ],
      "metadata": {
        "id": "gIfDvo9L0UH2"
      }
    }
  ]
}